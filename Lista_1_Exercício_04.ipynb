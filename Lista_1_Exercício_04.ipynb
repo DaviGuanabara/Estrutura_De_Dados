{
  "nbformat": 4,
  "nbformat_minor": 0,
  "metadata": {
    "colab": {
      "name": "Lista 1 Exercício 04.ipynb",
      "provenance": [],
      "collapsed_sections": [],
      "authorship_tag": "ABX9TyN1O57bBFdf7Hcy+TY1KbrH",
      "include_colab_link": true
    },
    "kernelspec": {
      "name": "python3",
      "display_name": "Python 3"
    },
    "language_info": {
      "name": "python"
    }
  },
  "cells": [
    {
      "cell_type": "markdown",
      "metadata": {
        "id": "view-in-github",
        "colab_type": "text"
      },
      "source": [
        "<a href=\"https://colab.research.google.com/github/DaviGuanabara/Estrutura_De_Dados/blob/main/Lista_1_Exerc%C3%ADcio_04.ipynb\" target=\"_parent\"><img src=\"https://colab.research.google.com/assets/colab-badge.svg\" alt=\"Open In Colab\"/></a>"
      ]
    },
    {
      "cell_type": "code",
      "metadata": {
        "id": "3AmuQhRnmz1P"
      },
      "source": [
        "x= 1"
      ],
      "execution_count": null,
      "outputs": []
    },
    {
      "cell_type": "markdown",
      "metadata": {
        "id": "e5EIqleXeoiu"
      },
      "source": [
        "# Lista de Exercícios 01.\n",
        "## Exercício 04.\n",
        "Exercício 04: Medições de tempo de processamento das implementações dos números de Fibonacci (recursivo e iterativo) e o mesmo para o problema de Josefo. J a temos os algoritmos recursivos para determinar os números de Fibonacci e o de Josefo. O algoritmo iterativo de Fibonacci não é difícil\n",
        "de ser feito e você pode usar o que encontrar na Internet, por exemplo, na Wikipedia. Porém, a ideia aqui é a que você apresente um relatório com as seguintes informaçõe (apresentado para o de Fibonacci recursivo):\n",
        "\n",
        "  Equipamento e linguagem utilizada.\n",
        "  Descrição do algoritmo.\n",
        "  Dizer como procedeu a contagem do tempo.\n",
        "  Tabela com duas colunas, na primeira o valor de n e na segunda o tempo medido para determinar o valor de Fn.\n",
        "\n",
        "  Para a implementação recursiva, a partir de n = 55\n",
        "[[certo?]] você não conseguirá ter tempo de resposta que\n",
        "seja viável. Pense em como apresentar seus testes, a\n",
        "variação de n ser a de 1 em 1, ou de 5 em 5 ou uma\n",
        "outra proporção?\n",
        "  Compare os tempos dos algoritmos que irá implementar usando o mesmo equipamento e linguagem.\n",
        "  Estabeleça conclusões sobre os tempos que obteve, note que o importante é ter a relação entre os tempos."
      ]
    },
    {
      "cell_type": "code",
      "metadata": {
        "id": "nexCi7lWilIG"
      },
      "source": [
        "def testFibo(func):\n",
        "    n = int(input('Exibir ate o termo (maior que 2): '))\n",
        "\n",
        "    for val in range(1,n+1):\n",
        "\n",
        "\n",
        "        print(\"a(%s): %s\" % (val, str(func(val))) )\n",
        "    \n"
      ],
      "execution_count": 13,
      "outputs": []
    },
    {
      "cell_type": "markdown",
      "metadata": {
        "id": "c756XKiohrN2"
      },
      "source": [
        "[Fibonacci Recursivo](https://www.pythonprogressivo.net/2018/10/Como-Gerar-Sequencia-Fibonacci-Recursao.html#:~:text=Gerando%20a%20Sequ%C3%AAncia%20de%20Fibonacci,obtido%20somando%20os%20dois%20anteriores.&text=Ent%C3%A3o%20uma%20fun%C3%A7%C3%A3o%20exibe%20todos,at%C3%A9%20o%20n%2D%C3%A9simo%20termo.)"
      ]
    },
    {
      "cell_type": "code",
      "metadata": {
        "id": "_j_mPAUvgQJ4"
      },
      "source": [
        "def fiboRec(n):\n",
        "    if n==1:\n",
        "        return 0\n",
        "    elif n==2:\n",
        "        return 1\n",
        "    else:\n",
        "        return fiboRec(n-1) + fiboRec(n-2)"
      ],
      "execution_count": 82,
      "outputs": []
    },
    {
      "cell_type": "markdown",
      "metadata": {
        "id": "-l9HO784hhph"
      },
      "source": [
        "Teste Fibonacci Recursivo"
      ]
    },
    {
      "cell_type": "code",
      "metadata": {
        "id": "R-RWqAb4ijeW"
      },
      "source": [
        ""
      ],
      "execution_count": null,
      "outputs": []
    },
    {
      "cell_type": "code",
      "metadata": {
        "colab": {
          "base_uri": "https://localhost:8080/"
        },
        "id": "6pxH3uU9gcXt",
        "outputId": "c75ea77a-67c7-459b-bcff-7401b6b30a86"
      },
      "source": [
        "def testeFiboRec():\n",
        "    n = int(input('Exibir ate o termo (maior que 2): '))\n",
        "\n",
        "    for val in range(1,n+1):\n",
        "\n",
        "\n",
        "        print(\"a(%s): %s\" % (val, str(fiboRec(val))) )\n",
        "    \n",
        "\n",
        "testFibo(fiboRec)"
      ],
      "execution_count": 83,
      "outputs": [
        {
          "output_type": "stream",
          "name": "stdout",
          "text": [
            "Exibir ate o termo (maior que 2): 7\n",
            "a(1): 0\n",
            "a(2): 1\n",
            "a(3): 1\n",
            "a(4): 2\n",
            "a(5): 3\n",
            "a(6): 5\n",
            "a(7): 8\n"
          ]
        }
      ]
    },
    {
      "cell_type": "markdown",
      "metadata": {
        "id": "Qo0hByQFhem_"
      },
      "source": [
        "[Fibonacci Iterativo](https://stackoverflow.com/questions/15047116/an-iterative-algorithm-for-fibonacci-numbers)"
      ]
    },
    {
      "cell_type": "code",
      "metadata": {
        "id": "qNhZFkxIiL7U"
      },
      "source": [
        "def fiboIt(n):\n",
        "    a, b = 0, 1\n",
        "\n",
        "    for i in range(1, n):\n",
        "        a, b = b, a + b\n",
        "    return a"
      ],
      "execution_count": 16,
      "outputs": []
    },
    {
      "cell_type": "markdown",
      "metadata": {
        "id": "nhwzbUyJlY9g"
      },
      "source": [
        "Teste Fibonacci iterativo"
      ]
    },
    {
      "cell_type": "code",
      "metadata": {
        "colab": {
          "base_uri": "https://localhost:8080/"
        },
        "id": "RU8q7haniUtc",
        "outputId": "0928ad9a-947d-4d56-8ec6-c4f3b89e0551"
      },
      "source": [
        "\n",
        "def testeFiboIt():\n",
        "    n = int(input('Exibir ate o termo (maior que 2): '))\n",
        "\n",
        "    for val in range(1,n+1):\n",
        "\n",
        "\n",
        "        print(\"a(%s): %s\" % (val, str(fiboIt(val))) )\n",
        "    \n",
        "\n",
        "testeFiboIt()"
      ],
      "execution_count": 17,
      "outputs": [
        {
          "output_type": "stream",
          "name": "stdout",
          "text": [
            "Exibir ate o termo (maior que 2): 7\n",
            "a(1): 0\n",
            "a(2): 1\n",
            "a(3): 1\n",
            "a(4): 2\n",
            "a(5): 3\n",
            "a(6): 5\n",
            "a(7): 8\n"
          ]
        }
      ]
    },
    {
      "cell_type": "markdown",
      "metadata": {
        "id": "LuWc88kfmT9q"
      },
      "source": [
        "Problema de [Josefus Recursivo](https://www.geeksforgeeks.org/josephus-problem-set-1-a-on-solution/#:~:text=The%20problem%20has%20following%20recursive%20structure.&text=After%20the%20first%20person%20(kth,from%20k%25n%20%2B%201.)"
      ]
    },
    {
      "cell_type": "code",
      "metadata": {
        "id": "es83BQMzmz2c"
      },
      "source": [
        "# Python code for Josephus Problem\n",
        "# n = número de pessoas\n",
        "# k = passo de cada iteração (para 2: cada segundo indivíduo morre)\n",
        "\n",
        "def josephusRecursive(n, k):\n",
        "\n",
        "\tif (n == 1):\n",
        "\t\treturn 1\n",
        "\telse:\n",
        "\n",
        "\t\t# The position returned by\n",
        "\t\t# josephus(n - 1, k) is adjusted\n",
        "\t\t# because the recursive call\n",
        "\t\t# josephus(n - 1, k) considers\n",
        "\t\t# the original position\n",
        "\t\t# k%n + 1 as position 1\n",
        "\t\treturn (josephusRecursive(n - 1, k) + k-1) % n + 1\n",
        "\n",
        "# Driver Program to test above function\n",
        "\n",
        "\n"
      ],
      "execution_count": 57,
      "outputs": []
    },
    {
      "cell_type": "markdown",
      "metadata": {
        "id": "D_r0zDcenSHo"
      },
      "source": [
        "Teste Problema de Josefus"
      ]
    },
    {
      "cell_type": "code",
      "metadata": {
        "colab": {
          "base_uri": "https://localhost:8080/"
        },
        "id": "xUngPSVvnOTU",
        "outputId": "7bca583d-7c19-41b0-ee6f-cb98e41e4d34"
      },
      "source": [
        "n = 5\n",
        "k = 2\n",
        "\n",
        "print(\"The chosen place is \", josephus(n, k))\n",
        "\n",
        "# This code is contributed by\n",
        "# Sumit Sadhakar\n"
      ],
      "execution_count": 119,
      "outputs": [
        {
          "output_type": "stream",
          "name": "stdout",
          "text": [
            "The chosen place is  3\n"
          ]
        }
      ]
    },
    {
      "cell_type": "markdown",
      "metadata": {
        "id": "4LRdJg8iM0b0"
      },
      "source": [
        "https://www.geeksforgeeks.org/josephus-problem-iterative-solution/"
      ]
    },
    {
      "cell_type": "code",
      "metadata": {
        "id": "P2rrFV1cobhm"
      },
      "source": [
        "def josephusIterative(n, k = 2):\n",
        "      sum = 0;\n",
        "\n",
        "      # For finding out the removed \n",
        "      # chairs in each iteration \n",
        "      for val in range(2,n+1):\n",
        "          sum = (sum + k) % val;\n",
        "      \n",
        "\n",
        "\n",
        "      return sum+1;\n"
      ],
      "execution_count": 33,
      "outputs": []
    },
    {
      "cell_type": "code",
      "metadata": {
        "colab": {
          "base_uri": "https://localhost:8080/"
        },
        "id": "HTEyhvRro1Ma",
        "outputId": "8739b134-80b2-4db2-bbba-8781a17cfc0d"
      },
      "source": [
        "n = 5\n",
        "#k = 2\n",
        "\n",
        "print(\"The chosen place is \", josephusIterative(n, k))\n",
        "\n",
        "# This code is contributed by\n",
        "# Sumit Sadhakar"
      ],
      "execution_count": 36,
      "outputs": [
        {
          "output_type": "stream",
          "name": "stdout",
          "text": [
            "The chosen place is  3\n"
          ]
        }
      ]
    },
    {
      "cell_type": "code",
      "metadata": {
        "id": "IOdnaq8grIxa"
      },
      "source": [
        "import time\n",
        "\n",
        "\n",
        "\n",
        "def timeSpent(func, iteractions):\n",
        "    \n",
        "    print(\"Function: \" + func.name)\n",
        "    print(\"i    Iterative    Recursive\")\n",
        "\n",
        "    times = [];\n",
        "\n",
        "    for i in range(2, iteractions, 4):\n",
        "        times = []\n",
        "        for attr in ('iterative', 'recursive'):\n",
        "   \n",
        "            start_time = time.time() # retorna tempo em segundos (float)\n",
        "            getattr(f1, attr)(i)\n",
        "            end_time=time.time()\n",
        "\n",
        "            times.append(\"{:.6f}\".format(end_time - start_time))\n",
        "        \n",
        "        print(\"%d   %s    %s  \" % (i, times[0], times[1]))\n",
        "\n",
        "\n",
        "class Func:\n",
        "  def __init__(self, funcName, funcIterative, funcRecursive):\n",
        "    self.iterative = funcIterative\n",
        "    self.recursive = funcRecursive\n",
        "    self.name = funcName\n",
        "\n",
        "\n",
        "        "
      ],
      "execution_count": 110,
      "outputs": []
    },
    {
      "cell_type": "code",
      "metadata": {
        "id": "niMbyGtpuNx1"
      },
      "source": [
        "f1 = Func(\"Fibonacci\", fiboIt, fiboRec)\n",
        "f2 = Func(\"Josephus Problem\", josephusIterative, josephusRecursive)\n",
        "\n",
        "#timeSpent(f1)\n",
        "#timeSpent(f2)\n"
      ],
      "execution_count": 85,
      "outputs": []
    },
    {
      "cell_type": "code",
      "metadata": {
        "colab": {
          "base_uri": "https://localhost:8080/"
        },
        "id": "rRPc1yGkwrVB",
        "outputId": "d71c66f8-debc-4df6-e836-24e468d2ce4a"
      },
      "source": [
        "iteractions = 44\n",
        "# timeSpent(f1, iteractions)\n",
        "timeSpent(f2, iteractions)"
      ],
      "execution_count": 122,
      "outputs": [
        {
          "output_type": "stream",
          "name": "stdout",
          "text": [
            "Function: Josephus Problem\n",
            "i    Iterative    Recursive\n",
            "2   0.000008    0.000003  \n",
            "6   0.000003    0.000006  \n",
            "10   0.000005    0.000033  \n",
            "14   0.000004    0.000147  \n",
            "18   0.000004    0.000871  \n",
            "22   0.000005    0.006127  \n",
            "26   0.000007    0.044441  \n",
            "30   0.000016    0.275470  \n",
            "34   0.000015    1.912271  \n",
            "38   0.000015    12.873451  \n",
            "42   0.000018    87.955633  \n"
          ]
        }
      ]
    },
    {
      "cell_type": "code",
      "metadata": {
        "id": "S5alTNUd15Z2"
      },
      "source": [
        "()"
      ],
      "execution_count": null,
      "outputs": []
    }
  ]
}